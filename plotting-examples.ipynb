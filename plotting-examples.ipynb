{
  "nbformat": 4,
  "nbformat_minor": 0,
  "metadata": {
    "colab": {
      "provenance": [],
      "authorship_tag": "ABX9TyPPOV89MCmHkJdUrgTkVLYw",
      "include_colab_link": true
    },
    "kernelspec": {
      "name": "python3",
      "display_name": "Python 3"
    },
    "language_info": {
      "name": "python"
    }
  },
  "cells": [
    {
      "cell_type": "markdown",
      "metadata": {
        "id": "view-in-github",
        "colab_type": "text"
      },
      "source": [
        "<a href=\"https://colab.research.google.com/github/nmagee/ds1002/blob/main/notebooks/plotting-examples.ipynb\" target=\"_parent\"><img src=\"https://colab.research.google.com/assets/colab-badge.svg\" alt=\"Open In Colab\"/></a>"
      ]
    },
    {
      "cell_type": "markdown",
      "source": [
        "# Plotting with `matplotlib`"
      ],
      "metadata": {
        "id": "C6senYdMlTXy"
      }
    },
    {
      "cell_type": "code",
      "source": [
        "# Start with some simple numpy arrays. These are ordered pairs: x, y:\n",
        "# 8, 5\n",
        "# 13, 4\n",
        "# 14, 18\n",
        "# . . .\n",
        "\n",
        "import numpy as np\n",
        "\n",
        "x = np.array([8, 13, 14, 16, 16, 20, 25, 30, 38, 40])\n",
        "y = np.array([5, 4, 18, 14, 20, 24, 28, 33, 30, 37])"
      ],
      "metadata": {
        "id": "ARrrWsVMlgtn"
      },
      "execution_count": null,
      "outputs": []
    },
    {
      "cell_type": "code",
      "source": [
        "# Next import matplotlib.pyplot\n",
        "import matplotlib.pyplot as plt"
      ],
      "metadata": {
        "id": "vXZiJerXmHv_"
      },
      "execution_count": null,
      "outputs": []
    },
    {
      "cell_type": "code",
      "source": [
        "# Create a simple plot of the values\n",
        "plt.scatter(x, y)"
      ],
      "metadata": {
        "id": "AfWPzqZYmUB_"
      },
      "execution_count": null,
      "outputs": []
    },
    {
      "cell_type": "code",
      "source": [
        "# Let z be a new calculation of a quadratic trendline for our data\n",
        "z = np.polyfit(x, y, 2)\n",
        "\n",
        "# Then p will be a plot of that line\n",
        "p = np.poly1d(z)"
      ],
      "metadata": {
        "id": "5-sGI1uzmfh_"
      },
      "execution_count": null,
      "outputs": []
    },
    {
      "cell_type": "code",
      "source": [
        "# Combine the two!\n",
        "\n",
        "plt.plot(x, p(x))\n",
        "plt.scatter(x,y)"
      ],
      "metadata": {
        "id": "IhygGqGcm0P7"
      },
      "execution_count": null,
      "outputs": []
    },
    {
      "cell_type": "code",
      "source": [
        "# As you want other types of plots, they are each separate methods to call\n",
        "# from within pyplot:\n",
        "plt.bar(x,y)"
      ],
      "metadata": {
        "id": "Z7slBpbmoWTb"
      },
      "execution_count": null,
      "outputs": []
    },
    {
      "cell_type": "markdown",
      "source": [
        "## Pie Chart"
      ],
      "metadata": {
        "id": "L2Jj00oxpBzN"
      }
    },
    {
      "cell_type": "code",
      "source": [
        "# A pie chart is fairly simple in matplotlib\n",
        "\n",
        "# Here are our data - a simple array of values. Together (added)\n",
        "# they will make up the \"whole\" of the pie. Each value/whole will\n",
        "# then represent a slice.\n",
        "data = [44, 64, 98, 14]\n",
        "\n",
        "# The plot itself uses the data object along with labels.\n",
        "plt.pie(data, labels=['Albany','Birmingham','Cleveland','Denver'])\n",
        "\n",
        "# Then show the plot\n",
        "plt.show()"
      ],
      "metadata": {
        "id": "GKbkjDLFolgp"
      },
      "execution_count": null,
      "outputs": []
    },
    {
      "cell_type": "markdown",
      "source": [
        "# Plotting with Seaborn"
      ],
      "metadata": {
        "id": "DDaPNWQVnd1S"
      }
    },
    {
      "cell_type": "code",
      "source": [
        "import seaborn as sns\n",
        "import pandas as pd\n",
        "\n",
        "df = pd.read_csv('https://raw.githubusercontent.com/datasciencedojo/datasets/master/titanic.csv')\n",
        "df.head(5)"
      ],
      "metadata": {
        "id": "x0jo4tV4nfda"
      },
      "execution_count": null,
      "outputs": []
    },
    {
      "cell_type": "code",
      "source": [
        "# filter the df to get specific value ranges\n",
        "filtered_df = df.loc[df['Age'] < 10]\n",
        "\n",
        "# Select specific columns\n",
        "selected_columns = filtered_df[['Age', 'Fare']]\n",
        "\n",
        "print(selected_columns.head())"
      ],
      "metadata": {
        "id": "jRx9zWEungLo"
      },
      "execution_count": null,
      "outputs": []
    },
    {
      "cell_type": "code",
      "source": [
        "sns.scatterplot(x='Age', y='Fare', data=filtered_df, hue='Fare', size='Fare').set(title='Fares for Children of the Titanic')"
      ],
      "metadata": {
        "id": "Z-1m-1jnngc0"
      },
      "execution_count": null,
      "outputs": []
    },
    {
      "cell_type": "markdown",
      "source": [
        "# Exporting Output\n",
        "\n",
        "Sometimes the output of a notebook needs to be saved outside of the notebook. This might involve an external database, file storage, or publishing to an API."
      ],
      "metadata": {
        "id": "jqouAW7PcWYr"
      }
    },
    {
      "cell_type": "code",
      "source": [
        "%pip install boto3"
      ],
      "metadata": {
        "id": "ZgOe6F7YUp3G"
      },
      "execution_count": null,
      "outputs": []
    },
    {
      "cell_type": "code",
      "source": [
        "# setup boto3 / client\n",
        "import boto3\n",
        "from botocore.exceptions import ClientError\n",
        "import pandas as pd\n",
        "import seaborn as sns\n",
        "import matplotlib.pyplot as plt\n",
        "\n",
        "# Set the style for better visualization\n",
        "sns.set_theme(style=\"whitegrid\")\n",
        "\n",
        "# Load the Titanic dataset\n",
        "url = \"https://raw.githubusercontent.com/datasciencedojo/datasets/master/titanic.csv\"\n",
        "df = pd.read_csv(url)\n",
        "\n",
        "# Remove rows with missing age values\n",
        "df = df.dropna(subset=['Age'])\n",
        "\n",
        "# Convert ages to whole numbers\n",
        "df['Age'] = df['Age'].astype(int)\n",
        "\n",
        "# Calculate survival and death counts by age\n",
        "survival_by_age = df.groupby('Age')['Survived'].agg(['count', 'sum']).reset_index()\n",
        "survival_by_age['Died'] = survival_by_age['count'] - survival_by_age['sum']\n",
        "\n",
        "# Normalize the counts to get widths between 0.2 and 1.0\n",
        "min_width = 0.2\n",
        "max_width = 1.0\n",
        "survival_by_age['width'] = min_width + (survival_by_age['count'] - survival_by_age['count'].min()) / (survival_by_age['count'].max() - survival_by_age['count'].min()) * (max_width - min_width)\n",
        "\n",
        "# Create the plot\n",
        "plt.figure(figsize=(15, 6))\n",
        "ax = plt.gca()\n",
        "\n",
        "# Plot absolute numbers with variable widths\n",
        "for i, row in survival_by_age.iterrows():\n",
        "    ax.bar(row['Age'], row['sum'],\n",
        "           width=row['width'],\n",
        "           label='Survived' if i == 0 else '',\n",
        "           color='green', alpha=0.7)\n",
        "    ax.bar(row['Age'], row['Died'],\n",
        "           width=row['width'],\n",
        "           bottom=row['sum'],\n",
        "           label='Died' if i == 0 else '',\n",
        "           color='red', alpha=0.7)\n",
        "\n",
        "# Customize the plot\n",
        "plt.title('Survival and Death Counts by Age for All Titanic Passengers)')\n",
        "plt.xlabel('Age')\n",
        "plt.ylabel('No of Passengers')\n",
        "plt.legend(loc='upper right')\n",
        "\n",
        "# Set x-axis ticks to show only every 5th age\n",
        "xticks = [age for age in survival_by_age['Age'] if age % 5 == 0]\n",
        "plt.xticks(xticks, rotation=45)\n",
        "\n",
        "# Adjust layout to prevent label cutoff\n",
        "plt.tight_layout()\n",
        "\n",
        "# Save the plot\n",
        "plt.savefig('titanic_survival_plot.png', bbox_inches='tight', dpi=300)\n",
        "\n",
        "# upload file to s3\n",
        "s3 = boto3.client('s3')\n",
        "bucket = \"ds2002-jupyter\"\n",
        "file_name = \"titanic_survival_plot.png\"\n",
        "try:\n",
        "    response = s3.upload_file(file_name, bucket, file_name)\n",
        "except ClientError as e:\n",
        "    print(\"Error:\", e)"
      ],
      "metadata": {
        "id": "Ks9iAICoUL-Y"
      },
      "execution_count": null,
      "outputs": []
    },
    {
      "cell_type": "markdown",
      "source": [
        "Watch a version of this notebook:\n",
        "\n",
        "https://www.youtube.com/watch?v=HZ2dO7ax4Bw\n"
      ],
      "metadata": {
        "id": "-ly4c18ZwVzG"
      }
    }
  ]
}